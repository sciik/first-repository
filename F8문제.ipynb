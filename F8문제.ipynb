{
 "cells": [
  {
   "cell_type": "markdown",
   "id": "ee70f771",
   "metadata": {},
   "source": [
    "### 데이터를 불러오기 위해서는 데이터가 저장되어 있는 위치를 알아야 합니다. \n",
    "### 제공한 데이터는 aiffel폴더 안에 저장해주시고, path라는 변수에 데이터 경로를 지정해주세요!!"
   ]
  },
  {
   "cell_type": "code",
   "execution_count": 2,
   "id": "30a55593",
   "metadata": {},
   "outputs": [],
   "source": [
    "import os"
   ]
  },
  {
   "cell_type": "code",
   "execution_count": null,
   "id": "0335ad69",
   "metadata": {
    "scrolled": true
   },
   "outputs": [],
   "source": [
    "ls"
   ]
  },
  {
   "cell_type": "code",
   "execution_count": 12,
   "id": "cd5883f7",
   "metadata": {},
   "outputs": [],
   "source": [
    "path = os.getenv(\"HOME\")+\"/aiffel/Salaries.csv\""
   ]
  },
  {
   "cell_type": "markdown",
   "id": "b2a02548",
   "metadata": {},
   "source": [
    "### 데이터를 살펴보기 위해서 우리는 판다스와 넘파이를 불러와야 합니다.\n",
    "* import를 이용해서 pandas, numpy 패키지를 불러오세요"
   ]
  },
  {
   "cell_type": "code",
   "execution_count": 14,
   "id": "be5df4aa",
   "metadata": {},
   "outputs": [],
   "source": [
    "import numpy as np\n",
    "import pandas as pd"
   ]
  },
  {
   "cell_type": "markdown",
   "id": "ffb75c9a",
   "metadata": {},
   "source": [
    "### Salaries.csv 파일을 data라는 변수명으로 불러와주세요.\n",
    "* 그냥 불러오면 데이터타입 경고창이 뜰 수 있으니, 해당 경고 메시지를 구글링해서 해결해보시고 왜 이러한 경고 메시지가 뜨는지 조원들과 상의해보세요!!"
   ]
  },
  {
   "cell_type": "code",
   "execution_count": 24,
   "id": "b60be24d",
   "metadata": {},
   "outputs": [
    {
     "name": "stdout",
     "output_type": "stream",
     "text": [
      "            Id       EmployeeName  \\\n",
      "0            1     NATHANIEL FORD   \n",
      "1            2       GARY JIMENEZ   \n",
      "2            3     ALBERT PARDINI   \n",
      "3            4  CHRISTOPHER CHONG   \n",
      "4            5    PATRICK GARDNER   \n",
      "...        ...                ...   \n",
      "148649  148650      Roy I Tillery   \n",
      "148650  148651       Not provided   \n",
      "148651  148652       Not provided   \n",
      "148652  148653       Not provided   \n",
      "148653  148654          Joe Lopez   \n",
      "\n",
      "                                              JobTitle       BasePay  \\\n",
      "0       GENERAL MANAGER-METROPOLITAN TRANSIT AUTHORITY     167411.18   \n",
      "1                      CAPTAIN III (POLICE DEPARTMENT)     155966.02   \n",
      "2                      CAPTAIN III (POLICE DEPARTMENT)     212739.13   \n",
      "3                 WIRE ROPE CABLE MAINTENANCE MECHANIC       77916.0   \n",
      "4         DEPUTY CHIEF OF DEPARTMENT,(FIRE DEPARTMENT)      134401.6   \n",
      "...                                                ...           ...   \n",
      "148649                                       Custodian          0.00   \n",
      "148650                                    Not provided  Not Provided   \n",
      "148651                                    Not provided  Not Provided   \n",
      "148652                                    Not provided  Not Provided   \n",
      "148653                      Counselor, Log Cabin Ranch          0.00   \n",
      "\n",
      "         OvertimePay      OtherPay      Benefits   TotalPay  TotalPayBenefits  \\\n",
      "0                0.0     400184.25           NaN  567595.43         567595.43   \n",
      "1          245131.88     137811.38           NaN  538909.28         538909.28   \n",
      "2          106088.18       16452.6           NaN  335279.91         335279.91   \n",
      "3           56120.71      198306.9           NaN  332343.61         332343.61   \n",
      "4             9737.0     182234.59           NaN  326373.19         326373.19   \n",
      "...              ...           ...           ...        ...               ...   \n",
      "148649          0.00          0.00          0.00       0.00              0.00   \n",
      "148650  Not Provided  Not Provided  Not Provided       0.00              0.00   \n",
      "148651  Not Provided  Not Provided  Not Provided       0.00              0.00   \n",
      "148652  Not Provided  Not Provided  Not Provided       0.00              0.00   \n",
      "148653          0.00       -618.13          0.00    -618.13           -618.13   \n",
      "\n",
      "        Year  Notes         Agency Status  \n",
      "0       2011    NaN  San Francisco    NaN  \n",
      "1       2011    NaN  San Francisco    NaN  \n",
      "2       2011    NaN  San Francisco    NaN  \n",
      "3       2011    NaN  San Francisco    NaN  \n",
      "4       2011    NaN  San Francisco    NaN  \n",
      "...      ...    ...            ...    ...  \n",
      "148649  2014    NaN  San Francisco     PT  \n",
      "148650  2014    NaN  San Francisco    NaN  \n",
      "148651  2014    NaN  San Francisco    NaN  \n",
      "148652  2014    NaN  San Francisco    NaN  \n",
      "148653  2014    NaN  San Francisco     PT  \n",
      "\n",
      "[148654 rows x 13 columns]\n"
     ]
    }
   ],
   "source": [
    "data = pd.read_csv(path, low_memory = False)\n",
    "print(data)"
   ]
  },
  {
   "cell_type": "markdown",
   "id": "b7504579",
   "metadata": {},
   "source": [
    "### 데이터를 불러오면 가장 먼저 해야할 것은 컬럼을 살펴보고 데이터가 어떤 정보를 가지고 있는지 확인하는 작업입니다.\n",
    "* 컬럼명을 출력해보세요."
   ]
  },
  {
   "cell_type": "code",
   "execution_count": 3,
   "id": "0c0dbe69",
   "metadata": {},
   "outputs": [
    {
     "data": {
      "text/plain": [
       "Index(['Id', 'EmployeeName', 'JobTitle', 'BasePay', 'OvertimePay', 'OtherPay',\n",
       "       'Benefits', 'TotalPay', 'TotalPayBenefits', 'Year', 'Notes', 'Agency',\n",
       "       'Status'],\n",
       "      dtype='object')"
      ]
     },
     "execution_count": 3,
     "metadata": {},
     "output_type": "execute_result"
    }
   ],
   "source": [
    "data.columns"
   ]
  },
  {
   "cell_type": "markdown",
   "id": "2dcf5ab5",
   "metadata": {},
   "source": [
    "### 데이터를 살펴보기 위해 상위 5개, 하위 3개 row를 출력해보세요."
   ]
  },
  {
   "cell_type": "code",
   "execution_count": 19,
   "id": "683d3313",
   "metadata": {},
   "outputs": [
    {
     "data": {
      "text/html": [
       "<div>\n",
       "<style scoped>\n",
       "    .dataframe tbody tr th:only-of-type {\n",
       "        vertical-align: middle;\n",
       "    }\n",
       "\n",
       "    .dataframe tbody tr th {\n",
       "        vertical-align: top;\n",
       "    }\n",
       "\n",
       "    .dataframe thead th {\n",
       "        text-align: right;\n",
       "    }\n",
       "</style>\n",
       "<table border=\"1\" class=\"dataframe\">\n",
       "  <thead>\n",
       "    <tr style=\"text-align: right;\">\n",
       "      <th></th>\n",
       "      <th>Id</th>\n",
       "      <th>EmployeeName</th>\n",
       "      <th>JobTitle</th>\n",
       "      <th>BasePay</th>\n",
       "      <th>OvertimePay</th>\n",
       "      <th>OtherPay</th>\n",
       "      <th>Benefits</th>\n",
       "      <th>TotalPay</th>\n",
       "      <th>TotalPayBenefits</th>\n",
       "      <th>Year</th>\n",
       "      <th>Notes</th>\n",
       "      <th>Agency</th>\n",
       "      <th>Status</th>\n",
       "    </tr>\n",
       "  </thead>\n",
       "  <tbody>\n",
       "    <tr>\n",
       "      <th>0</th>\n",
       "      <td>1</td>\n",
       "      <td>NATHANIEL FORD</td>\n",
       "      <td>GENERAL MANAGER-METROPOLITAN TRANSIT AUTHORITY</td>\n",
       "      <td>167411.18</td>\n",
       "      <td>0.0</td>\n",
       "      <td>400184.25</td>\n",
       "      <td>NaN</td>\n",
       "      <td>567595.43</td>\n",
       "      <td>567595.43</td>\n",
       "      <td>2011</td>\n",
       "      <td>NaN</td>\n",
       "      <td>San Francisco</td>\n",
       "      <td>NaN</td>\n",
       "    </tr>\n",
       "    <tr>\n",
       "      <th>1</th>\n",
       "      <td>2</td>\n",
       "      <td>GARY JIMENEZ</td>\n",
       "      <td>CAPTAIN III (POLICE DEPARTMENT)</td>\n",
       "      <td>155966.02</td>\n",
       "      <td>245131.88</td>\n",
       "      <td>137811.38</td>\n",
       "      <td>NaN</td>\n",
       "      <td>538909.28</td>\n",
       "      <td>538909.28</td>\n",
       "      <td>2011</td>\n",
       "      <td>NaN</td>\n",
       "      <td>San Francisco</td>\n",
       "      <td>NaN</td>\n",
       "    </tr>\n",
       "    <tr>\n",
       "      <th>2</th>\n",
       "      <td>3</td>\n",
       "      <td>ALBERT PARDINI</td>\n",
       "      <td>CAPTAIN III (POLICE DEPARTMENT)</td>\n",
       "      <td>212739.13</td>\n",
       "      <td>106088.18</td>\n",
       "      <td>16452.6</td>\n",
       "      <td>NaN</td>\n",
       "      <td>335279.91</td>\n",
       "      <td>335279.91</td>\n",
       "      <td>2011</td>\n",
       "      <td>NaN</td>\n",
       "      <td>San Francisco</td>\n",
       "      <td>NaN</td>\n",
       "    </tr>\n",
       "    <tr>\n",
       "      <th>3</th>\n",
       "      <td>4</td>\n",
       "      <td>CHRISTOPHER CHONG</td>\n",
       "      <td>WIRE ROPE CABLE MAINTENANCE MECHANIC</td>\n",
       "      <td>77916.0</td>\n",
       "      <td>56120.71</td>\n",
       "      <td>198306.9</td>\n",
       "      <td>NaN</td>\n",
       "      <td>332343.61</td>\n",
       "      <td>332343.61</td>\n",
       "      <td>2011</td>\n",
       "      <td>NaN</td>\n",
       "      <td>San Francisco</td>\n",
       "      <td>NaN</td>\n",
       "    </tr>\n",
       "    <tr>\n",
       "      <th>4</th>\n",
       "      <td>5</td>\n",
       "      <td>PATRICK GARDNER</td>\n",
       "      <td>DEPUTY CHIEF OF DEPARTMENT,(FIRE DEPARTMENT)</td>\n",
       "      <td>134401.6</td>\n",
       "      <td>9737.0</td>\n",
       "      <td>182234.59</td>\n",
       "      <td>NaN</td>\n",
       "      <td>326373.19</td>\n",
       "      <td>326373.19</td>\n",
       "      <td>2011</td>\n",
       "      <td>NaN</td>\n",
       "      <td>San Francisco</td>\n",
       "      <td>NaN</td>\n",
       "    </tr>\n",
       "  </tbody>\n",
       "</table>\n",
       "</div>"
      ],
      "text/plain": [
       "   Id       EmployeeName                                        JobTitle  \\\n",
       "0   1     NATHANIEL FORD  GENERAL MANAGER-METROPOLITAN TRANSIT AUTHORITY   \n",
       "1   2       GARY JIMENEZ                 CAPTAIN III (POLICE DEPARTMENT)   \n",
       "2   3     ALBERT PARDINI                 CAPTAIN III (POLICE DEPARTMENT)   \n",
       "3   4  CHRISTOPHER CHONG            WIRE ROPE CABLE MAINTENANCE MECHANIC   \n",
       "4   5    PATRICK GARDNER    DEPUTY CHIEF OF DEPARTMENT,(FIRE DEPARTMENT)   \n",
       "\n",
       "     BasePay OvertimePay   OtherPay Benefits   TotalPay  TotalPayBenefits  \\\n",
       "0  167411.18         0.0  400184.25      NaN  567595.43         567595.43   \n",
       "1  155966.02   245131.88  137811.38      NaN  538909.28         538909.28   \n",
       "2  212739.13   106088.18    16452.6      NaN  335279.91         335279.91   \n",
       "3    77916.0    56120.71   198306.9      NaN  332343.61         332343.61   \n",
       "4   134401.6      9737.0  182234.59      NaN  326373.19         326373.19   \n",
       "\n",
       "   Year  Notes         Agency Status  \n",
       "0  2011    NaN  San Francisco    NaN  \n",
       "1  2011    NaN  San Francisco    NaN  \n",
       "2  2011    NaN  San Francisco    NaN  \n",
       "3  2011    NaN  San Francisco    NaN  \n",
       "4  2011    NaN  San Francisco    NaN  "
      ]
     },
     "execution_count": 19,
     "metadata": {},
     "output_type": "execute_result"
    }
   ],
   "source": [
    "data.head(5)"
   ]
  },
  {
   "cell_type": "code",
   "execution_count": null,
   "id": "eeb0fa37",
   "metadata": {},
   "outputs": [],
   "source": [
    "data.tail(3)"
   ]
  },
  {
   "cell_type": "markdown",
   "id": "014ea546",
   "metadata": {},
   "source": [
    "### TotalPay column의 합, 평균, 표준편차, 중앙값을 출력해보세요."
   ]
  },
  {
   "cell_type": "markdown",
   "id": "888e2ab0",
   "metadata": {},
   "source": [
    "### 컬럼별로 null값이 얼마나 있는지 확인해보세요."
   ]
  },
  {
   "cell_type": "code",
   "execution_count": 8,
   "id": "8bcaa379",
   "metadata": {},
   "outputs": [
    {
     "data": {
      "text/plain": [
       "11114610134.380001"
      ]
     },
     "execution_count": 8,
     "metadata": {},
     "output_type": "execute_result"
    }
   ],
   "source": [
    "data['TotalPay'].sum()"
   ]
  },
  {
   "cell_type": "code",
   "execution_count": 7,
   "id": "65486149",
   "metadata": {},
   "outputs": [
    {
     "data": {
      "text/plain": [
       "74768.32197169267"
      ]
     },
     "execution_count": 7,
     "metadata": {},
     "output_type": "execute_result"
    }
   ],
   "source": [
    "data['TotalPay'].mean()"
   ]
  },
  {
   "cell_type": "code",
   "execution_count": 10,
   "id": "c1ea7bf0",
   "metadata": {},
   "outputs": [
    {
     "data": {
      "text/plain": [
       "50517.00527394987"
      ]
     },
     "execution_count": 10,
     "metadata": {},
     "output_type": "execute_result"
    }
   ],
   "source": [
    "data['TotalPay'].std()"
   ]
  },
  {
   "cell_type": "code",
   "execution_count": 13,
   "id": "2c335f98",
   "metadata": {},
   "outputs": [
    {
     "data": {
      "text/plain": [
       "71426.60999999999"
      ]
     },
     "execution_count": 13,
     "metadata": {},
     "output_type": "execute_result"
    }
   ],
   "source": [
    "data['TotalPay'].median()"
   ]
  },
  {
   "cell_type": "code",
   "execution_count": 16,
   "id": "b7d4f3ec",
   "metadata": {},
   "outputs": [
    {
     "data": {
      "text/plain": [
       "Id                       0\n",
       "EmployeeName             0\n",
       "JobTitle                 0\n",
       "BasePay                605\n",
       "OvertimePay              0\n",
       "OtherPay                 0\n",
       "Benefits             36159\n",
       "TotalPay                 0\n",
       "TotalPayBenefits         0\n",
       "Year                     0\n",
       "Notes               148654\n",
       "Agency                   0\n",
       "Status              110535\n",
       "dtype: int64"
      ]
     },
     "execution_count": 16,
     "metadata": {},
     "output_type": "execute_result"
    }
   ],
   "source": [
    "data.isnull().sum()"
   ]
  },
  {
   "cell_type": "markdown",
   "id": "4f43eb78",
   "metadata": {},
   "source": [
    "### 가장 많은 TotalPay를 받는 직원의 위치를 출력해보세요.(출력되는 값은 인덱스)"
   ]
  },
  {
   "cell_type": "code",
   "execution_count": 34,
   "id": "1b372d06",
   "metadata": {},
   "outputs": [
    {
     "data": {
      "text/plain": [
       "0"
      ]
     },
     "execution_count": 34,
     "metadata": {},
     "output_type": "execute_result"
    }
   ],
   "source": [
    "data['TotalPay'].argmax()"
   ]
  },
  {
   "cell_type": "markdown",
   "id": "0ac46e79",
   "metadata": {},
   "source": [
    "### OvertimePay 컬럼의 평균을 구해봅시다\n",
    "`주의`: `TotaltimePay`컬럼과 같은 방법으로 구할 경우 제대로 구해지지 않습니다. 조원들과 문제를 파악해보고 해결해봅시다."
   ]
  },
  {
   "cell_type": "code",
   "execution_count": 42,
   "id": "5da09a88",
   "metadata": {},
   "outputs": [
    {
     "data": {
      "text/plain": [
       "5066.059886444667"
      ]
     },
     "execution_count": 42,
     "metadata": {},
     "output_type": "execute_result"
    }
   ],
   "source": [
    "pd.to_numeric(data['OvertimePay'], errors='coerce').mean()"
   ]
  },
  {
   "cell_type": "code",
   "execution_count": null,
   "id": "f6aa9f7e",
   "metadata": {},
   "outputs": [],
   "source": []
  }
 ],
 "metadata": {
  "kernelspec": {
   "display_name": "Python 3 (ipykernel)",
   "language": "python",
   "name": "python3"
  },
  "language_info": {
   "codemirror_mode": {
    "name": "ipython",
    "version": 3
   },
   "file_extension": ".py",
   "mimetype": "text/x-python",
   "name": "python",
   "nbconvert_exporter": "python",
   "pygments_lexer": "ipython3",
   "version": "3.9.7"
  }
 },
 "nbformat": 4,
 "nbformat_minor": 5
}
